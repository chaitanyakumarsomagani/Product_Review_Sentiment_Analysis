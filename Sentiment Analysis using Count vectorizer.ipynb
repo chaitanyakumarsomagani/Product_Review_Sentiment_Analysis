{
 "cells": [
  {
   "cell_type": "code",
   "execution_count": 1,
   "id": "92587410",
   "metadata": {},
   "outputs": [],
   "source": [
    "# import all required libraries\n",
    "import numpy as np\n",
    "import pandas as pd\n",
    "import seaborn as sns\n",
    "import matplotlib.pyplot as plt"
   ]
  },
  {
   "cell_type": "code",
   "execution_count": 2,
   "id": "d2cd70bc",
   "metadata": {},
   "outputs": [],
   "source": [
    "# load the dataset\n",
    "df_train = pd.read_csv('Sentiment6.csv')"
   ]
  },
  {
   "cell_type": "code",
   "execution_count": 3,
   "id": "57cc5e4a",
   "metadata": {},
   "outputs": [
    {
     "data": {
      "text/html": [
       "<div>\n",
       "<style scoped>\n",
       "    .dataframe tbody tr th:only-of-type {\n",
       "        vertical-align: middle;\n",
       "    }\n",
       "\n",
       "    .dataframe tbody tr th {\n",
       "        vertical-align: top;\n",
       "    }\n",
       "\n",
       "    .dataframe thead th {\n",
       "        text-align: right;\n",
       "    }\n",
       "</style>\n",
       "<table border=\"1\" class=\"dataframe\">\n",
       "  <thead>\n",
       "    <tr style=\"text-align: right;\">\n",
       "      <th></th>\n",
       "      <th>asin</th>\n",
       "      <th>helpful</th>\n",
       "      <th>overall</th>\n",
       "      <th>reviewText</th>\n",
       "      <th>reviewTime</th>\n",
       "      <th>reviewerID</th>\n",
       "      <th>reviewerName</th>\n",
       "      <th>summary</th>\n",
       "      <th>unixReviewTime</th>\n",
       "    </tr>\n",
       "  </thead>\n",
       "  <tbody>\n",
       "    <tr>\n",
       "      <th>0</th>\n",
       "      <td>B000F83SZQ</td>\n",
       "      <td>[0, 0]</td>\n",
       "      <td>5</td>\n",
       "      <td>I enjoy vintage books and movies so I enjoyed ...</td>\n",
       "      <td>05 5, 2014</td>\n",
       "      <td>A1F6404F1VG29J</td>\n",
       "      <td>Avidreader</td>\n",
       "      <td>Nice vintage story</td>\n",
       "      <td>1399248000</td>\n",
       "    </tr>\n",
       "    <tr>\n",
       "      <th>1</th>\n",
       "      <td>B000F83SZQ</td>\n",
       "      <td>[2, 2]</td>\n",
       "      <td>4</td>\n",
       "      <td>This book is a reissue of an old one; the auth...</td>\n",
       "      <td>01 6, 2014</td>\n",
       "      <td>AN0N05A9LIJEQ</td>\n",
       "      <td>critters</td>\n",
       "      <td>Different...</td>\n",
       "      <td>1388966400</td>\n",
       "    </tr>\n",
       "    <tr>\n",
       "      <th>2</th>\n",
       "      <td>B000F83SZQ</td>\n",
       "      <td>[2, 2]</td>\n",
       "      <td>4</td>\n",
       "      <td>This was a fairly interesting read.  It had ol...</td>\n",
       "      <td>04 4, 2014</td>\n",
       "      <td>A795DMNCJILA6</td>\n",
       "      <td>dot</td>\n",
       "      <td>Oldie</td>\n",
       "      <td>1396569600</td>\n",
       "    </tr>\n",
       "    <tr>\n",
       "      <th>3</th>\n",
       "      <td>B000F83SZQ</td>\n",
       "      <td>[1, 1]</td>\n",
       "      <td>5</td>\n",
       "      <td>I'd never read any of the Amy Brewster mysteri...</td>\n",
       "      <td>02 19, 2014</td>\n",
       "      <td>A1FV0SX13TWVXQ</td>\n",
       "      <td>Elaine H. Turley \"Montana Songbird\"</td>\n",
       "      <td>I really liked it.</td>\n",
       "      <td>1392768000</td>\n",
       "    </tr>\n",
       "    <tr>\n",
       "      <th>4</th>\n",
       "      <td>B000F83SZQ</td>\n",
       "      <td>[0, 1]</td>\n",
       "      <td>4</td>\n",
       "      <td>If you like period pieces - clothing, lingo, y...</td>\n",
       "      <td>03 19, 2014</td>\n",
       "      <td>A3SPTOKDG7WBLN</td>\n",
       "      <td>Father Dowling Fan</td>\n",
       "      <td>Period Mystery</td>\n",
       "      <td>1395187200</td>\n",
       "    </tr>\n",
       "    <tr>\n",
       "      <th>...</th>\n",
       "      <td>...</td>\n",
       "      <td>...</td>\n",
       "      <td>...</td>\n",
       "      <td>...</td>\n",
       "      <td>...</td>\n",
       "      <td>...</td>\n",
       "      <td>...</td>\n",
       "      <td>...</td>\n",
       "      <td>...</td>\n",
       "    </tr>\n",
       "    <tr>\n",
       "      <th>5995</th>\n",
       "      <td>B002HMCLFQ</td>\n",
       "      <td>[1, 2]</td>\n",
       "      <td>4</td>\n",
       "      <td>As I read this, I found myself trying to guess...</td>\n",
       "      <td>04 1, 2010</td>\n",
       "      <td>A3IF9GAIGNVBMZ</td>\n",
       "      <td>George Angus \"Tumblemoose\"</td>\n",
       "      <td>Crazy fun</td>\n",
       "      <td>1270080000</td>\n",
       "    </tr>\n",
       "    <tr>\n",
       "      <th>5996</th>\n",
       "      <td>B002HMCLFQ</td>\n",
       "      <td>[5, 6]</td>\n",
       "      <td>5</td>\n",
       "      <td>If you like a good action/thriller, certainly ...</td>\n",
       "      <td>02 4, 2011</td>\n",
       "      <td>A2NXSAC8H7YKI3</td>\n",
       "      <td>JDullens</td>\n",
       "      <td>You'll like it, unless you're some kind of par...</td>\n",
       "      <td>1296777600</td>\n",
       "    </tr>\n",
       "    <tr>\n",
       "      <th>5997</th>\n",
       "      <td>B002HMCLFQ</td>\n",
       "      <td>[0, 0]</td>\n",
       "      <td>4</td>\n",
       "      <td>This was a different read for me.  For the mos...</td>\n",
       "      <td>07 17, 2013</td>\n",
       "      <td>A335AIY6JYXZ6V</td>\n",
       "      <td>Kathy Gisi</td>\n",
       "      <td>Crack up</td>\n",
       "      <td>1374019200</td>\n",
       "    </tr>\n",
       "    <tr>\n",
       "      <th>5998</th>\n",
       "      <td>B002HMCLFQ</td>\n",
       "      <td>[3, 4]</td>\n",
       "      <td>5</td>\n",
       "      <td>Argus Ward's struggle to separate reality from...</td>\n",
       "      <td>09 29, 2009</td>\n",
       "      <td>A27B2D6STG2Q6H</td>\n",
       "      <td>KayeKaye</td>\n",
       "      <td>Very, very good!</td>\n",
       "      <td>1254182400</td>\n",
       "    </tr>\n",
       "    <tr>\n",
       "      <th>5999</th>\n",
       "      <td>B002HMCLFQ</td>\n",
       "      <td>[17, 25]</td>\n",
       "      <td>2</td>\n",
       "      <td>I saw a really enthusiastic review (5 stars) f...</td>\n",
       "      <td>08 11, 2009</td>\n",
       "      <td>A1VASOVPUGUYEJ</td>\n",
       "      <td>K. Holmes</td>\n",
       "      <td>Not as great as I hoped</td>\n",
       "      <td>1249948800</td>\n",
       "    </tr>\n",
       "  </tbody>\n",
       "</table>\n",
       "<p>6000 rows × 9 columns</p>\n",
       "</div>"
      ],
      "text/plain": [
       "            asin   helpful  overall  \\\n",
       "0     B000F83SZQ    [0, 0]        5   \n",
       "1     B000F83SZQ    [2, 2]        4   \n",
       "2     B000F83SZQ    [2, 2]        4   \n",
       "3     B000F83SZQ    [1, 1]        5   \n",
       "4     B000F83SZQ    [0, 1]        4   \n",
       "...          ...       ...      ...   \n",
       "5995  B002HMCLFQ    [1, 2]        4   \n",
       "5996  B002HMCLFQ    [5, 6]        5   \n",
       "5997  B002HMCLFQ    [0, 0]        4   \n",
       "5998  B002HMCLFQ    [3, 4]        5   \n",
       "5999  B002HMCLFQ  [17, 25]        2   \n",
       "\n",
       "                                             reviewText   reviewTime  \\\n",
       "0     I enjoy vintage books and movies so I enjoyed ...   05 5, 2014   \n",
       "1     This book is a reissue of an old one; the auth...   01 6, 2014   \n",
       "2     This was a fairly interesting read.  It had ol...   04 4, 2014   \n",
       "3     I'd never read any of the Amy Brewster mysteri...  02 19, 2014   \n",
       "4     If you like period pieces - clothing, lingo, y...  03 19, 2014   \n",
       "...                                                 ...          ...   \n",
       "5995  As I read this, I found myself trying to guess...   04 1, 2010   \n",
       "5996  If you like a good action/thriller, certainly ...   02 4, 2011   \n",
       "5997  This was a different read for me.  For the mos...  07 17, 2013   \n",
       "5998  Argus Ward's struggle to separate reality from...  09 29, 2009   \n",
       "5999  I saw a really enthusiastic review (5 stars) f...  08 11, 2009   \n",
       "\n",
       "          reviewerID                         reviewerName  \\\n",
       "0     A1F6404F1VG29J                           Avidreader   \n",
       "1      AN0N05A9LIJEQ                             critters   \n",
       "2      A795DMNCJILA6                                  dot   \n",
       "3     A1FV0SX13TWVXQ  Elaine H. Turley \"Montana Songbird\"   \n",
       "4     A3SPTOKDG7WBLN                   Father Dowling Fan   \n",
       "...              ...                                  ...   \n",
       "5995  A3IF9GAIGNVBMZ           George Angus \"Tumblemoose\"   \n",
       "5996  A2NXSAC8H7YKI3                             JDullens   \n",
       "5997  A335AIY6JYXZ6V                           Kathy Gisi   \n",
       "5998  A27B2D6STG2Q6H                             KayeKaye   \n",
       "5999  A1VASOVPUGUYEJ                            K. Holmes   \n",
       "\n",
       "                                                summary  unixReviewTime  \n",
       "0                                    Nice vintage story      1399248000  \n",
       "1                                          Different...      1388966400  \n",
       "2                                                 Oldie      1396569600  \n",
       "3                                    I really liked it.      1392768000  \n",
       "4                                        Period Mystery      1395187200  \n",
       "...                                                 ...             ...  \n",
       "5995                                          Crazy fun      1270080000  \n",
       "5996  You'll like it, unless you're some kind of par...      1296777600  \n",
       "5997                                           Crack up      1374019200  \n",
       "5998                                   Very, very good!      1254182400  \n",
       "5999                            Not as great as I hoped      1249948800  \n",
       "\n",
       "[6000 rows x 9 columns]"
      ]
     },
     "execution_count": 3,
     "metadata": {},
     "output_type": "execute_result"
    }
   ],
   "source": [
    "# records of the dataframe\n",
    "df_train"
   ]
  },
  {
   "cell_type": "code",
   "execution_count": 4,
   "id": "892efcb7",
   "metadata": {},
   "outputs": [
    {
     "name": "stdout",
     "output_type": "stream",
     "text": [
      "<class 'pandas.core.frame.DataFrame'>\n",
      "RangeIndex: 6000 entries, 0 to 5999\n",
      "Data columns (total 9 columns):\n",
      " #   Column          Non-Null Count  Dtype \n",
      "---  ------          --------------  ----- \n",
      " 0   asin            6000 non-null   object\n",
      " 1   helpful         6000 non-null   object\n",
      " 2   overall         6000 non-null   int64 \n",
      " 3   reviewText      6000 non-null   object\n",
      " 4   reviewTime      6000 non-null   object\n",
      " 5   reviewerID      6000 non-null   object\n",
      " 6   reviewerName    6000 non-null   object\n",
      " 7   summary         6000 non-null   object\n",
      " 8   unixReviewTime  6000 non-null   int64 \n",
      "dtypes: int64(2), object(7)\n",
      "memory usage: 422.0+ KB\n"
     ]
    }
   ],
   "source": [
    "# data type of each feature\n",
    "df_train.info()"
   ]
  },
  {
   "cell_type": "markdown",
   "id": "94eea3c4",
   "metadata": {},
   "source": [
    "## Exploratory Data Analysis and Visualization"
   ]
  },
  {
   "cell_type": "code",
   "execution_count": 5,
   "id": "e69ede38",
   "metadata": {},
   "outputs": [
    {
     "data": {
      "text/plain": [
       "B002AJ7X2C    111\n",
       "B000JMLBHU    108\n",
       "B002D48NBO     99\n",
       "B001V9KG4E     77\n",
       "B001HQHCBQ     74\n",
       "             ... \n",
       "B001D6468M      5\n",
       "B000TU16PE      5\n",
       "B000JMLG4S      5\n",
       "B002BH4RT0      5\n",
       "B0029ZBK5S      5\n",
       "Name: asin, Length: 494, dtype: int64"
      ]
     },
     "execution_count": 5,
     "metadata": {},
     "output_type": "execute_result"
    }
   ],
   "source": [
    "# value counts of 'asin' feature\n",
    "df_train['asin'].value_counts()"
   ]
  },
  {
   "cell_type": "code",
   "execution_count": 6,
   "id": "f3bb9cbe",
   "metadata": {},
   "outputs": [
    {
     "data": {
      "text/plain": [
       "<AxesSubplot:xlabel='asin'>"
      ]
     },
     "execution_count": 6,
     "metadata": {},
     "output_type": "execute_result"
    },
    {
     "data": {
      "image/png": "[encoded data removed]",
      "text/plain": [
       "<Figure size 432x288 with 1 Axes>"
      ]
     },
     "metadata": {
      "needs_background": "light"
     },
     "output_type": "display_data"
    }
   ],
   "source": [
    "# distplot of 'asin' feature\n",
    "sns.distplot(df_train['asin'].value_counts())"
   ]
  },
  {
   "cell_type": "markdown",
   "id": "2fa7f589",
   "metadata": {},
   "source": [
    "- From the above distribution plot we can say that 0 to 50 repeated 'asin' values are more means it is approximately 70% and the remaining values are less"
   ]
  },
  {
   "cell_type": "markdown",
   "id": "18c3e740",
   "metadata": {},
   "source": [
    "- 'helpful' column means that out of members in list how many are reported the reviews on that pertucular date"
   ]
  },
  {
   "cell_type": "markdown",
   "id": "8c82cec8",
   "metadata": {},
   "source": [
    "- I thought that 'helpful' colunmn will not contribute any participation in accurate model building"
   ]
  },
  {
   "cell_type": "markdown",
   "id": "8167ea36",
   "metadata": {},
   "source": [
    "- From the above explaination we can eliminate 'helpfull' column"
   ]
  },
  {
   "cell_type": "code",
   "execution_count": 7,
   "id": "ec4c272f",
   "metadata": {},
   "outputs": [
    {
     "data": {
      "text/plain": [
       "5    2830\n",
       "4    1732\n",
       "3     829\n",
       "2     354\n",
       "1     255\n",
       "Name: overall, dtype: int64"
      ]
     },
     "execution_count": 7,
     "metadata": {},
     "output_type": "execute_result"
    }
   ],
   "source": [
    "# value count of 'overall' feature\n",
    "df_train['overall'].value_counts()"
   ]
  },
  {
   "cell_type": "code",
   "execution_count": 8,
   "id": "e2bba2b8",
   "metadata": {},
   "outputs": [
    {
     "data": {
      "text/plain": [
       "5    0.471667\n",
       "4    0.288667\n",
       "3    0.138167\n",
       "2    0.059000\n",
       "1    0.042500\n",
       "Name: overall, dtype: float64"
      ]
     },
     "execution_count": 8,
     "metadata": {},
     "output_type": "execute_result"
    }
   ],
   "source": [
    "# normalize 'overall' feature\n",
    "df_train['overall'].value_counts(normalize=True)"
   ]
  },
  {
   "cell_type": "code",
   "execution_count": 9,
   "id": "b0b570f3",
   "metadata": {},
   "outputs": [
    {
     "data": {
      "text/plain": [
       "<AxesSubplot:>"
      ]
     },
     "execution_count": 9,
     "metadata": {},
     "output_type": "execute_result"
    },
    {
     "data": {
      "image/png": "[encoded data removed]",
      "text/plain": [
       "<Figure size 432x288 with 1 Axes>"
      ]
     },
     "metadata": {
      "needs_background": "light"
     },
     "output_type": "display_data"
    }
   ],
   "source": [
    "# Bar plot of 'overall' feature\n",
    "df_train['overall'].value_counts(normalize=True).plot(kind='barh',color=['blue','green','yellow','orange','red'])"
   ]
  },
  {
   "cell_type": "code",
   "execution_count": 10,
   "id": "65005b7e",
   "metadata": {},
   "outputs": [],
   "source": [
    "# import datime library\n",
    "from datetime import datetime"
   ]
  },
  {
   "cell_type": "code",
   "execution_count": 11,
   "id": "580e5944",
   "metadata": {},
   "outputs": [],
   "source": [
    "# extracting 'Date' from 'reviewTime' feature\n",
    "df_train['Date'] = pd.to_datetime(df_train['reviewTime']).dt.date"
   ]
  },
  {
   "cell_type": "code",
   "execution_count": 12,
   "id": "57719d5a",
   "metadata": {},
   "outputs": [
    {
     "data": {
      "text/html": [
       "<div>\n",
       "<style scoped>\n",
       "    .dataframe tbody tr th:only-of-type {\n",
       "        vertical-align: middle;\n",
       "    }\n",
       "\n",
       "    .dataframe tbody tr th {\n",
       "        vertical-align: top;\n",
       "    }\n",
       "\n",
       "    .dataframe thead th {\n",
       "        text-align: right;\n",
       "    }\n",
       "</style>\n",
       "<table border=\"1\" class=\"dataframe\">\n",
       "  <thead>\n",
       "    <tr style=\"text-align: right;\">\n",
       "      <th></th>\n",
       "      <th>asin</th>\n",
       "      <th>helpful</th>\n",
       "      <th>overall</th>\n",
       "      <th>reviewText</th>\n",
       "      <th>reviewTime</th>\n",
       "      <th>reviewerID</th>\n",
       "      <th>reviewerName</th>\n",
       "      <th>summary</th>\n",
       "      <th>unixReviewTime</th>\n",
       "      <th>Date</th>\n",
       "    </tr>\n",
       "  </thead>\n",
       "  <tbody>\n",
       "    <tr>\n",
       "      <th>0</th>\n",
       "      <td>B000F83SZQ</td>\n",
       "      <td>[0, 0]</td>\n",
       "      <td>5</td>\n",
       "      <td>I enjoy vintage books and movies so I enjoyed ...</td>\n",
       "      <td>05 5, 2014</td>\n",
       "      <td>A1F6404F1VG29J</td>\n",
       "      <td>Avidreader</td>\n",
       "      <td>Nice vintage story</td>\n",
       "      <td>1399248000</td>\n",
       "      <td>2014-05-05</td>\n",
       "    </tr>\n",
       "    <tr>\n",
       "      <th>1</th>\n",
       "      <td>B000F83SZQ</td>\n",
       "      <td>[2, 2]</td>\n",
       "      <td>4</td>\n",
       "      <td>This book is a reissue of an old one; the auth...</td>\n",
       "      <td>01 6, 2014</td>\n",
       "      <td>AN0N05A9LIJEQ</td>\n",
       "      <td>critters</td>\n",
       "      <td>Different...</td>\n",
       "      <td>1388966400</td>\n",
       "      <td>2014-01-06</td>\n",
       "    </tr>\n",
       "    <tr>\n",
       "      <th>2</th>\n",
       "      <td>B000F83SZQ</td>\n",
       "      <td>[2, 2]</td>\n",
       "      <td>4</td>\n",
       "      <td>This was a fairly interesting read.  It had ol...</td>\n",
       "      <td>04 4, 2014</td>\n",
       "      <td>A795DMNCJILA6</td>\n",
       "      <td>dot</td>\n",
       "      <td>Oldie</td>\n",
       "      <td>1396569600</td>\n",
       "      <td>2014-04-04</td>\n",
       "    </tr>\n",
       "    <tr>\n",
       "      <th>3</th>\n",
       "      <td>B000F83SZQ</td>\n",
       "      <td>[1, 1]</td>\n",
       "      <td>5</td>\n",
       "      <td>I'd never read any of the Amy Brewster mysteri...</td>\n",
       "      <td>02 19, 2014</td>\n",
       "      <td>A1FV0SX13TWVXQ</td>\n",
       "      <td>Elaine H. Turley \"Montana Songbird\"</td>\n",
       "      <td>I really liked it.</td>\n",
       "      <td>1392768000</td>\n",
       "      <td>2014-02-19</td>\n",
       "    </tr>\n",
       "    <tr>\n",
       "      <th>4</th>\n",
       "      <td>B000F83SZQ</td>\n",
       "      <td>[0, 1]</td>\n",
       "      <td>4</td>\n",
       "      <td>If you like period pieces - clothing, lingo, y...</td>\n",
       "      <td>03 19, 2014</td>\n",
       "      <td>A3SPTOKDG7WBLN</td>\n",
       "      <td>Father Dowling Fan</td>\n",
       "      <td>Period Mystery</td>\n",
       "      <td>1395187200</td>\n",
       "      <td>2014-03-19</td>\n",
       "    </tr>\n",
       "    <tr>\n",
       "      <th>...</th>\n",
       "      <td>...</td>\n",
       "      <td>...</td>\n",
       "      <td>...</td>\n",
       "      <td>...</td>\n",
       "      <td>...</td>\n",
       "      <td>...</td>\n",
       "      <td>...</td>\n",
       "      <td>...</td>\n",
       "      <td>...</td>\n",
       "      <td>...</td>\n",
       "    </tr>\n",
       "    <tr>\n",
       "      <th>5995</th>\n",
       "      <td>B002HMCLFQ</td>\n",
       "      <td>[1, 2]</td>\n",
       "      <td>4</td>\n",
       "      <td>As I read this, I found myself trying to guess...</td>\n",
       "      <td>04 1, 2010</td>\n",
       "      <td>A3IF9GAIGNVBMZ</td>\n",
       "      <td>George Angus \"Tumblemoose\"</td>\n",
       "      <td>Crazy fun</td>\n",
       "      <td>1270080000</td>\n",
       "      <td>2010-04-01</td>\n",
       "    </tr>\n",
       "    <tr>\n",
       "      <th>5996</th>\n",
       "      <td>B002HMCLFQ</td>\n",
       "      <td>[5, 6]</td>\n",
       "      <td>5</td>\n",
       "      <td>If you like a good action/thriller, certainly ...</td>\n",
       "      <td>02 4, 2011</td>\n",
       "      <td>A2NXSAC8H7YKI3</td>\n",
       "      <td>JDullens</td>\n",
       "      <td>You'll like it, unless you're some kind of par...</td>\n",
       "      <td>1296777600</td>\n",
       "      <td>2011-02-04</td>\n",
       "    </tr>\n",
       "    <tr>\n",
       "      <th>5997</th>\n",
       "      <td>B002HMCLFQ</td>\n",
       "      <td>[0, 0]</td>\n",
       "      <td>4</td>\n",
       "      <td>This was a different read for me.  For the mos...</td>\n",
       "      <td>07 17, 2013</td>\n",
       "      <td>A335AIY6JYXZ6V</td>\n",
       "      <td>Kathy Gisi</td>\n",
       "      <td>Crack up</td>\n",
       "      <td>1374019200</td>\n",
       "      <td>2013-07-17</td>\n",
       "    </tr>\n",
       "    <tr>\n",
       "      <th>5998</th>\n",
       "      <td>B002HMCLFQ</td>\n",
       "      <td>[3, 4]</td>\n",
       "      <td>5</td>\n",
       "      <td>Argus Ward's struggle to separate reality from...</td>\n",
       "      <td>09 29, 2009</td>\n",
       "      <td>A27B2D6STG2Q6H</td>\n",
       "      <td>KayeKaye</td>\n",
       "      <td>Very, very good!</td>\n",
       "      <td>1254182400</td>\n",
       "      <td>2009-09-29</td>\n",
       "    </tr>\n",
       "    <tr>\n",
       "      <th>5999</th>\n",
       "      <td>B002HMCLFQ</td>\n",
       "      <td>[17, 25]</td>\n",
       "      <td>2</td>\n",
       "      <td>I saw a really enthusiastic review (5 stars) f...</td>\n",
       "      <td>08 11, 2009</td>\n",
       "      <td>A1VASOVPUGUYEJ</td>\n",
       "      <td>K. Holmes</td>\n",
       "      <td>Not as great as I hoped</td>\n",
       "      <td>1249948800</td>\n",
       "      <td>2009-08-11</td>\n",
       "    </tr>\n",
       "  </tbody>\n",
       "</table>\n",
       "<p>6000 rows × 10 columns</p>\n",
       "</div>"
      ],
      "text/plain": [
       "            asin   helpful  overall  \\\n",
       "0     B000F83SZQ    [0, 0]        5   \n",
       "1     B000F83SZQ    [2, 2]        4   \n",
       "2     B000F83SZQ    [2, 2]        4   \n",
       "3     B000F83SZQ    [1, 1]        5   \n",
       "4     B000F83SZQ    [0, 1]        4   \n",
       "...          ...       ...      ...   \n",
       "5995  B002HMCLFQ    [1, 2]        4   \n",
       "5996  B002HMCLFQ    [5, 6]        5   \n",
       "5997  B002HMCLFQ    [0, 0]        4   \n",
       "5998  B002HMCLFQ    [3, 4]        5   \n",
       "5999  B002HMCLFQ  [17, 25]        2   \n",
       "\n",
       "                                             reviewText   reviewTime  \\\n",
       "0     I enjoy vintage books and movies so I enjoyed ...   05 5, 2014   \n",
       "1     This book is a reissue of an old one; the auth...   01 6, 2014   \n",
       "2     This was a fairly interesting read.  It had ol...   04 4, 2014   \n",
       "3     I'd never read any of the Amy Brewster mysteri...  02 19, 2014   \n",
       "4     If you like period pieces - clothing, lingo, y...  03 19, 2014   \n",
       "...                                                 ...          ...   \n",
       "5995  As I read this, I found myself trying to guess...   04 1, 2010   \n",
       "5996  If you like a good action/thriller, certainly ...   02 4, 2011   \n",
       "5997  This was a different read for me.  For the mos...  07 17, 2013   \n",
       "5998  Argus Ward's struggle to separate reality from...  09 29, 2009   \n",
       "5999  I saw a really enthusiastic review (5 stars) f...  08 11, 2009   \n",
       "\n",
       "          reviewerID                         reviewerName  \\\n",
       "0     A1F6404F1VG29J                           Avidreader   \n",
       "1      AN0N05A9LIJEQ                             critters   \n",
       "2      A795DMNCJILA6                                  dot   \n",
       "3     A1FV0SX13TWVXQ  Elaine H. Turley \"Montana Songbird\"   \n",
       "4     A3SPTOKDG7WBLN                   Father Dowling Fan   \n",
       "...              ...                                  ...   \n",
       "5995  A3IF9GAIGNVBMZ           George Angus \"Tumblemoose\"   \n",
       "5996  A2NXSAC8H7YKI3                             JDullens   \n",
       "5997  A335AIY6JYXZ6V                           Kathy Gisi   \n",
       "5998  A27B2D6STG2Q6H                             KayeKaye   \n",
       "5999  A1VASOVPUGUYEJ                            K. Holmes   \n",
       "\n",
       "                                                summary  unixReviewTime  \\\n",
       "0                                    Nice vintage story      1399248000   \n",
       "1                                          Different...      1388966400   \n",
       "2                                                 Oldie      1396569600   \n",
       "3                                    I really liked it.      1392768000   \n",
       "4                                        Period Mystery      1395187200   \n",
       "...                                                 ...             ...   \n",
       "5995                                          Crazy fun      1270080000   \n",
       "5996  You'll like it, unless you're some kind of par...      1296777600   \n",
       "5997                                           Crack up      1374019200   \n",
       "5998                                   Very, very good!      1254182400   \n",
       "5999                            Not as great as I hoped      1249948800   \n",
       "\n",
       "            Date  \n",
       "0     2014-05-05  \n",
       "1     2014-01-06  \n",
       "2     2014-04-04  \n",
       "3     2014-02-19  \n",
       "4     2014-03-19  \n",
       "...          ...  \n",
       "5995  2010-04-01  \n",
       "5996  2011-02-04  \n",
       "5997  2013-07-17  \n",
       "5998  2009-09-29  \n",
       "5999  2009-08-11  \n",
       "\n",
       "[6000 rows x 10 columns]"
      ]
     },
     "execution_count": 12,
     "metadata": {},
     "output_type": "execute_result"
    }
   ],
   "source": [
    "# records of dataframe\n",
    "df_train"
   ]
  },
  {
   "cell_type": "code",
   "execution_count": 13,
   "id": "5c6f7c7d",
   "metadata": {},
   "outputs": [],
   "source": [
    "# extracting the 'month' from 'Date' feature\n",
    "df_train['month'] = pd.to_datetime(df_train['Date'], format='%Y/%m/%d').dt.month"
   ]
  },
  {
   "cell_type": "code",
   "execution_count": 14,
   "id": "a201e8d5",
   "metadata": {},
   "outputs": [
    {
     "data": {
      "text/plain": [
       "0       5\n",
       "1       1\n",
       "2       4\n",
       "3       2\n",
       "4       3\n",
       "       ..\n",
       "5995    4\n",
       "5996    2\n",
       "5997    7\n",
       "5998    9\n",
       "5999    8\n",
       "Name: month, Length: 6000, dtype: int64"
      ]
     },
     "execution_count": 14,
     "metadata": {},
     "output_type": "execute_result"
    }
   ],
   "source": [
    "# distribution of 'month'\n",
    "df_train['month']"
   ]
  },
  {
   "cell_type": "code",
   "execution_count": 15,
   "id": "279549a6",
   "metadata": {},
   "outputs": [],
   "source": [
    "# extractinf 'day' from 'Date' feature \n",
    "df_train['day'] = pd.to_datetime(df_train['Date'], format='%Y/%m/%d').dt.day"
   ]
  },
  {
   "cell_type": "code",
   "execution_count": 16,
   "id": "25feae01",
   "metadata": {},
   "outputs": [
    {
     "data": {
      "text/plain": [
       "0        5\n",
       "1        6\n",
       "2        4\n",
       "3       19\n",
       "4       19\n",
       "        ..\n",
       "5995     1\n",
       "5996     4\n",
       "5997    17\n",
       "5998    29\n",
       "5999    11\n",
       "Name: day, Length: 6000, dtype: int64"
      ]
     },
     "execution_count": 16,
     "metadata": {},
     "output_type": "execute_result"
    }
   ],
   "source": [
    "# Distribution of 'day' feature\n",
    "df_train['day']"
   ]
  },
  {
   "cell_type": "code",
   "execution_count": 17,
   "id": "3ea0ea54",
   "metadata": {},
   "outputs": [],
   "source": [
    "# extracting the 'year' feature from 'Date' feature\n",
    "df_train['year'] = pd.to_datetime(df_train['Date'], format='%Y/%m/%d').dt.year"
   ]
  },
  {
   "cell_type": "code",
   "execution_count": 18,
   "id": "d9d57476",
   "metadata": {},
   "outputs": [
    {
     "data": {
      "text/plain": [
       "0       2014\n",
       "1       2014\n",
       "2       2014\n",
       "3       2014\n",
       "4       2014\n",
       "        ... \n",
       "5995    2010\n",
       "5996    2011\n",
       "5997    2013\n",
       "5998    2009\n",
       "5999    2009\n",
       "Name: year, Length: 6000, dtype: int64"
      ]
     },
     "execution_count": 18,
     "metadata": {},
     "output_type": "execute_result"
    }
   ],
   "source": [
    "# distribution of the 'year' feature\n",
    "df_train['year']"
   ]
  },
  {
   "cell_type": "code",
   "execution_count": 19,
   "id": "d7c51be5",
   "metadata": {},
   "outputs": [
    {
     "data": {
      "text/html": [
       "<div>\n",
       "<style scoped>\n",
       "    .dataframe tbody tr th:only-of-type {\n",
       "        vertical-align: middle;\n",
       "    }\n",
       "\n",
       "    .dataframe tbody tr th {\n",
       "        vertical-align: top;\n",
       "    }\n",
       "\n",
       "    .dataframe thead th {\n",
       "        text-align: right;\n",
       "    }\n",
       "</style>\n",
       "<table border=\"1\" class=\"dataframe\">\n",
       "  <thead>\n",
       "    <tr style=\"text-align: right;\">\n",
       "      <th></th>\n",
       "      <th>asin</th>\n",
       "      <th>helpful</th>\n",
       "      <th>overall</th>\n",
       "      <th>reviewText</th>\n",
       "      <th>reviewTime</th>\n",
       "      <th>reviewerID</th>\n",
       "      <th>reviewerName</th>\n",
       "      <th>summary</th>\n",
       "      <th>unixReviewTime</th>\n",
       "      <th>Date</th>\n",
       "      <th>month</th>\n",
       "      <th>day</th>\n",
       "      <th>year</th>\n",
       "    </tr>\n",
       "  </thead>\n",
       "  <tbody>\n",
       "    <tr>\n",
       "      <th>0</th>\n",
       "      <td>B000F83SZQ</td>\n",
       "      <td>[0, 0]</td>\n",
       "      <td>5</td>\n",
       "      <td>I enjoy vintage books and movies so I enjoyed ...</td>\n",
       "      <td>05 5, 2014</td>\n",
       "      <td>A1F6404F1VG29J</td>\n",
       "      <td>Avidreader</td>\n",
       "      <td>Nice vintage story</td>\n",
       "      <td>1399248000</td>\n",
       "      <td>2014-05-05</td>\n",
       "      <td>5</td>\n",
       "      <td>5</td>\n",
       "      <td>2014</td>\n",
       "    </tr>\n",
       "    <tr>\n",
       "      <th>1</th>\n",
       "      <td>B000F83SZQ</td>\n",
       "      <td>[2, 2]</td>\n",
       "      <td>4</td>\n",
       "      <td>This book is a reissue of an old one; the auth...</td>\n",
       "      <td>01 6, 2014</td>\n",
       "      <td>AN0N05A9LIJEQ</td>\n",
       "      <td>critters</td>\n",
       "      <td>Different...</td>\n",
       "      <td>1388966400</td>\n",
       "      <td>2014-01-06</td>\n",
       "      <td>1</td>\n",
       "      <td>6</td>\n",
       "      <td>2014</td>\n",
       "    </tr>\n",
       "    <tr>\n",
       "      <th>2</th>\n",
       "      <td>B000F83SZQ</td>\n",
       "      <td>[2, 2]</td>\n",
       "      <td>4</td>\n",
       "      <td>This was a fairly interesting read.  It had ol...</td>\n",
       "      <td>04 4, 2014</td>\n",
       "      <td>A795DMNCJILA6</td>\n",
       "      <td>dot</td>\n",
       "      <td>Oldie</td>\n",
       "      <td>1396569600</td>\n",
       "      <td>2014-04-04</td>\n",
       "      <td>4</td>\n",
       "      <td>4</td>\n",
       "      <td>2014</td>\n",
       "    </tr>\n",
       "    <tr>\n",
       "      <th>3</th>\n",
       "      <td>B000F83SZQ</td>\n",
       "      <td>[1, 1]</td>\n",
       "      <td>5</td>\n",
       "      <td>I'd never read any of the Amy Brewster mysteri...</td>\n",
       "      <td>02 19, 2014</td>\n",
       "      <td>A1FV0SX13TWVXQ</td>\n",
       "      <td>Elaine H. Turley \"Montana Songbird\"</td>\n",
       "      <td>I really liked it.</td>\n",
       "      <td>1392768000</td>\n",
       "      <td>2014-02-19</td>\n",
       "      <td>2</td>\n",
       "      <td>19</td>\n",
       "      <td>2014</td>\n",
       "    </tr>\n",
       "    <tr>\n",
       "      <th>4</th>\n",
       "      <td>B000F83SZQ</td>\n",
       "      <td>[0, 1]</td>\n",
       "      <td>4</td>\n",
       "      <td>If you like period pieces - clothing, lingo, y...</td>\n",
       "      <td>03 19, 2014</td>\n",
       "      <td>A3SPTOKDG7WBLN</td>\n",
       "      <td>Father Dowling Fan</td>\n",
       "      <td>Period Mystery</td>\n",
       "      <td>1395187200</td>\n",
       "      <td>2014-03-19</td>\n",
       "      <td>3</td>\n",
       "      <td>19</td>\n",
       "      <td>2014</td>\n",
       "    </tr>\n",
       "    <tr>\n",
       "      <th>...</th>\n",
       "      <td>...</td>\n",
       "      <td>...</td>\n",
       "      <td>...</td>\n",
       "      <td>...</td>\n",
       "      <td>...</td>\n",
       "      <td>...</td>\n",
       "      <td>...</td>\n",
       "      <td>...</td>\n",
       "      <td>...</td>\n",
       "      <td>...</td>\n",
       "      <td>...</td>\n",
       "      <td>...</td>\n",
       "      <td>...</td>\n",
       "    </tr>\n",
       "    <tr>\n",
       "      <th>5995</th>\n",
       "      <td>B002HMCLFQ</td>\n",
       "      <td>[1, 2]</td>\n",
       "      <td>4</td>\n",
       "      <td>As I read this, I found myself trying to guess...</td>\n",
       "      <td>04 1, 2010</td>\n",
       "      <td>A3IF9GAIGNVBMZ</td>\n",
       "      <td>George Angus \"Tumblemoose\"</td>\n",
       "      <td>Crazy fun</td>\n",
       "      <td>1270080000</td>\n",
       "      <td>2010-04-01</td>\n",
       "      <td>4</td>\n",
       "      <td>1</td>\n",
       "      <td>2010</td>\n",
       "    </tr>\n",
       "    <tr>\n",
       "      <th>5996</th>\n",
       "      <td>B002HMCLFQ</td>\n",
       "      <td>[5, 6]</td>\n",
       "      <td>5</td>\n",
       "      <td>If you like a good action/thriller, certainly ...</td>\n",
       "      <td>02 4, 2011</td>\n",
       "      <td>A2NXSAC8H7YKI3</td>\n",
       "      <td>JDullens</td>\n",
       "      <td>You'll like it, unless you're some kind of par...</td>\n",
       "      <td>1296777600</td>\n",
       "      <td>2011-02-04</td>\n",
       "      <td>2</td>\n",
       "      <td>4</td>\n",
       "      <td>2011</td>\n",
       "    </tr>\n",
       "    <tr>\n",
       "      <th>5997</th>\n",
       "      <td>B002HMCLFQ</td>\n",
       "      <td>[0, 0]</td>\n",
       "      <td>4</td>\n",
       "      <td>This was a different read for me.  For the mos...</td>\n",
       "      <td>07 17, 2013</td>\n",
       "      <td>A335AIY6JYXZ6V</td>\n",
       "      <td>Kathy Gisi</td>\n",
       "      <td>Crack up</td>\n",
       "      <td>1374019200</td>\n",
       "      <td>2013-07-17</td>\n",
       "      <td>7</td>\n",
       "      <td>17</td>\n",
       "      <td>2013</td>\n",
       "    </tr>\n",
       "    <tr>\n",
       "      <th>5998</th>\n",
       "      <td>B002HMCLFQ</td>\n",
       "      <td>[3, 4]</td>\n",
       "      <td>5</td>\n",
       "      <td>Argus Ward's struggle to separate reality from...</td>\n",
       "      <td>09 29, 2009</td>\n",
       "      <td>A27B2D6STG2Q6H</td>\n",
       "      <td>KayeKaye</td>\n",
       "      <td>Very, very good!</td>\n",
       "      <td>1254182400</td>\n",
       "      <td>2009-09-29</td>\n",
       "      <td>9</td>\n",
       "      <td>29</td>\n",
       "      <td>2009</td>\n",
       "    </tr>\n",
       "    <tr>\n",
       "      <th>5999</th>\n",
       "      <td>B002HMCLFQ</td>\n",
       "      <td>[17, 25]</td>\n",
       "      <td>2</td>\n",
       "      <td>I saw a really enthusiastic review (5 stars) f...</td>\n",
       "      <td>08 11, 2009</td>\n",
       "      <td>A1VASOVPUGUYEJ</td>\n",
       "      <td>K. Holmes</td>\n",
       "      <td>Not as great as I hoped</td>\n",
       "      <td>1249948800</td>\n",
       "      <td>2009-08-11</td>\n",
       "      <td>8</td>\n",
       "      <td>11</td>\n",
       "      <td>2009</td>\n",
       "    </tr>\n",
       "  </tbody>\n",
       "</table>\n",
       "<p>6000 rows × 13 columns</p>\n",
       "</div>"
      ],
      "text/plain": [
       "            asin   helpful  overall  \\\n",
       "0     B000F83SZQ    [0, 0]        5   \n",
       "1     B000F83SZQ    [2, 2]        4   \n",
       "2     B000F83SZQ    [2, 2]        4   \n",
       "3     B000F83SZQ    [1, 1]        5   \n",
       "4     B000F83SZQ    [0, 1]        4   \n",
       "...          ...       ...      ...   \n",
       "5995  B002HMCLFQ    [1, 2]        4   \n",
       "5996  B002HMCLFQ    [5, 6]        5   \n",
       "5997  B002HMCLFQ    [0, 0]        4   \n",
       "5998  B002HMCLFQ    [3, 4]        5   \n",
       "5999  B002HMCLFQ  [17, 25]        2   \n",
       "\n",
       "                                             reviewText   reviewTime  \\\n",
       "0     I enjoy vintage books and movies so I enjoyed ...   05 5, 2014   \n",
       "1     This book is a reissue of an old one; the auth...   01 6, 2014   \n",
       "2     This was a fairly interesting read.  It had ol...   04 4, 2014   \n",
       "3     I'd never read any of the Amy Brewster mysteri...  02 19, 2014   \n",
       "4     If you like period pieces - clothing, lingo, y...  03 19, 2014   \n",
       "...                                                 ...          ...   \n",
       "5995  As I read this, I found myself trying to guess...   04 1, 2010   \n",
       "5996  If you like a good action/thriller, certainly ...   02 4, 2011   \n",
       "5997  This was a different read for me.  For the mos...  07 17, 2013   \n",
       "5998  Argus Ward's struggle to separate reality from...  09 29, 2009   \n",
       "5999  I saw a really enthusiastic review (5 stars) f...  08 11, 2009   \n",
       "\n",
       "          reviewerID                         reviewerName  \\\n",
       "0     A1F6404F1VG29J                           Avidreader   \n",
       "1      AN0N05A9LIJEQ                             critters   \n",
       "2      A795DMNCJILA6                                  dot   \n",
       "3     A1FV0SX13TWVXQ  Elaine H. Turley \"Montana Songbird\"   \n",
       "4     A3SPTOKDG7WBLN                   Father Dowling Fan   \n",
       "...              ...                                  ...   \n",
       "5995  A3IF9GAIGNVBMZ           George Angus \"Tumblemoose\"   \n",
       "5996  A2NXSAC8H7YKI3                             JDullens   \n",
       "5997  A335AIY6JYXZ6V                           Kathy Gisi   \n",
       "5998  A27B2D6STG2Q6H                             KayeKaye   \n",
       "5999  A1VASOVPUGUYEJ                            K. Holmes   \n",
       "\n",
       "                                                summary  unixReviewTime  \\\n",
       "0                                    Nice vintage story      1399248000   \n",
       "1                                          Different...      1388966400   \n",
       "2                                                 Oldie      1396569600   \n",
       "3                                    I really liked it.      1392768000   \n",
       "4                                        Period Mystery      1395187200   \n",
       "...                                                 ...             ...   \n",
       "5995                                          Crazy fun      1270080000   \n",
       "5996  You'll like it, unless you're some kind of par...      1296777600   \n",
       "5997                                           Crack up      1374019200   \n",
       "5998                                   Very, very good!      1254182400   \n",
       "5999                            Not as great as I hoped      1249948800   \n",
       "\n",
       "            Date  month  day  year  \n",
       "0     2014-05-05      5    5  2014  \n",
       "1     2014-01-06      1    6  2014  \n",
       "2     2014-04-04      4    4  2014  \n",
       "3     2014-02-19      2   19  2014  \n",
       "4     2014-03-19      3   19  2014  \n",
       "...          ...    ...  ...   ...  \n",
       "5995  2010-04-01      4    1  2010  \n",
       "5996  2011-02-04      2    4  2011  \n",
       "5997  2013-07-17      7   17  2013  \n",
       "5998  2009-09-29      9   29  2009  \n",
       "5999  2009-08-11      8   11  2009  \n",
       "\n",
       "[6000 rows x 13 columns]"
      ]
     },
     "execution_count": 19,
     "metadata": {},
     "output_type": "execute_result"
    }
   ],
   "source": [
    "# all records of dataframe df_train\n",
    "df_train"
   ]
  },
  {
   "cell_type": "code",
   "execution_count": 20,
   "id": "5ca81c66",
   "metadata": {},
   "outputs": [
    {
     "data": {
      "text/plain": [
       "count    6000.000000\n",
       "mean        4.088000\n",
       "std         1.104895\n",
       "min         1.000000\n",
       "25%         4.000000\n",
       "50%         4.000000\n",
       "75%         5.000000\n",
       "max         5.000000\n",
       "Name: overall, dtype: float64"
      ]
     },
     "execution_count": 20,
     "metadata": {},
     "output_type": "execute_result"
    }
   ],
   "source": [
    "# description of 'overall' feature\n",
    "df_train['overall'].describe()"
   ]
  },
  {
   "cell_type": "code",
   "execution_count": 21,
   "id": "93c081eb",
   "metadata": {},
   "outputs": [
    {
     "data": {
      "text/plain": [
       "2013-02-18    22\n",
       "2013-05-19    20\n",
       "2013-02-13    16\n",
       "2013-02-28    16\n",
       "2012-09-06    15\n",
       "              ..\n",
       "2008-02-16     1\n",
       "2009-10-01     1\n",
       "2008-12-18     1\n",
       "2008-02-13     1\n",
       "2008-10-26     1\n",
       "Name: Date, Length: 1787, dtype: int64"
      ]
     },
     "execution_count": 21,
     "metadata": {},
     "output_type": "execute_result"
    }
   ],
   "source": [
    "df_train['Date'].value_counts()"
   ]
  },
  {
   "cell_type": "code",
   "execution_count": 22,
   "id": "4b65fa47",
   "metadata": {},
   "outputs": [
    {
     "data": {
      "text/plain": [
       "2013-02-18    22\n",
       "2013-05-19    20\n",
       "2013-02-13    16\n",
       "2013-02-28    16\n",
       "2012-09-06    15\n",
       "2012-12-05    15\n",
       "2013-02-21    14\n",
       "2014-01-12    13\n",
       "2013-05-29    13\n",
       "2014-03-30    13\n",
       "2014-03-19    12\n",
       "2012-12-20    12\n",
       "2013-12-28    12\n",
       "2013-02-25    12\n",
       "2013-01-04    12\n",
       "Name: Date, dtype: int64"
      ]
     },
     "execution_count": 22,
     "metadata": {},
     "output_type": "execute_result"
    }
   ],
   "source": [
    "# top 15 of 'Date' feature\n",
    "df_train['Date'].value_counts()[:15]"
   ]
  },
  {
   "cell_type": "code",
   "execution_count": 23,
   "id": "705b6680",
   "metadata": {},
   "outputs": [
    {
     "data": {
      "text/plain": [
       "2008-10-26     1\n",
       "2008-02-13     1\n",
       "2008-12-18     1\n",
       "2009-10-01     1\n",
       "2008-02-16     1\n",
       "              ..\n",
       "2012-09-06    15\n",
       "2013-02-28    16\n",
       "2013-02-13    16\n",
       "2013-05-19    20\n",
       "2013-02-18    22\n",
       "Name: Date, Length: 1787, dtype: int64"
      ]
     },
     "execution_count": 23,
     "metadata": {},
     "output_type": "execute_result"
    }
   ],
   "source": [
    "#value counts of 'Date' feature\n",
    "df_train['Date'].value_counts(ascending=True)"
   ]
  },
  {
   "cell_type": "code",
   "execution_count": 24,
   "id": "45e97f80",
   "metadata": {},
   "outputs": [
    {
     "data": {
      "text/plain": [
       "2008-10-26    1\n",
       "2008-02-13    1\n",
       "2008-12-18    1\n",
       "2009-10-01    1\n",
       "2008-02-16    1\n",
       "2012-08-04    1\n",
       "2011-05-26    1\n",
       "2010-12-19    1\n",
       "2009-11-17    1\n",
       "2010-11-12    1\n",
       "2010-03-18    1\n",
       "2010-11-26    1\n",
       "2008-08-31    1\n",
       "2011-07-17    1\n",
       "2012-06-02    1\n",
       "2011-03-14    1\n",
       "2010-03-10    1\n",
       "2010-12-01    1\n",
       "2010-11-03    1\n",
       "2008-05-04    1\n",
       "2011-02-16    1\n",
       "2009-01-07    1\n",
       "2009-06-04    1\n",
       "2012-11-03    1\n",
       "2009-12-04    1\n",
       "Name: Date, dtype: int64"
      ]
     },
     "execution_count": 24,
     "metadata": {},
     "output_type": "execute_result"
    }
   ],
   "source": [
    "# making the ascending order of 'Date' feature\n",
    "df_train['Date'].value_counts(ascending=True)[:25]"
   ]
  },
  {
   "cell_type": "code",
   "execution_count": 25,
   "id": "5ae788c6",
   "metadata": {},
   "outputs": [
    {
     "data": {
      "text/plain": [
       "<AxesSubplot:>"
      ]
     },
     "execution_count": 25,
     "metadata": {},
     "output_type": "execute_result"
    },
    {
     "data": {
      "image/png": "[encoded data removed]",
      "text/plain": [
       "<Figure size 432x288 with 1 Axes>"
      ]
     },
     "metadata": {
      "needs_background": "light"
     },
     "output_type": "display_data"
    }
   ],
   "source": [
    "#Bar plot of 'Date' feature\n",
    "df_train['Date'].value_counts()[:25].plot(kind='barh',color=['violet','indigo','blue','green','yellow','orange','red'])"
   ]
  },
  {
   "cell_type": "markdown",
   "id": "6a0147d0",
   "metadata": {},
   "source": [
    "- on 07-07-2014 more reviews are send "
   ]
  },
  {
   "cell_type": "code",
   "execution_count": 26,
   "id": "a09cfc06",
   "metadata": {},
   "outputs": [
    {
     "data": {
      "text/plain": [
       "<AxesSubplot:xlabel='Date'>"
      ]
     },
     "execution_count": 26,
     "metadata": {},
     "output_type": "execute_result"
    },
    {
     "data": {
      "image/png": "[encoded data removed]",
      "text/plain": [
       "<Figure size 432x288 with 1 Axes>"
      ]
     },
     "metadata": {
      "needs_background": "light"
     },
     "output_type": "display_data"
    }
   ],
   "source": [
    "# Distribution plot of 'Date' feature\n",
    "sns.distplot(df_train['Date'].value_counts())"
   ]
  },
  {
   "cell_type": "markdown",
   "id": "0bac02ee",
   "metadata": {},
   "source": [
    "- 100 count values are distributed above 0.5% more remaining are are very less"
   ]
  },
  {
   "cell_type": "code",
   "execution_count": 27,
   "id": "858e31c5",
   "metadata": {},
   "outputs": [
    {
     "data": {
      "text/plain": [
       "2013    2086\n",
       "2012    1093\n",
       "2014     984\n",
       "2011     715\n",
       "2010     589\n",
       "2009     375\n",
       "2008     135\n",
       "2007      15\n",
       "2006       3\n",
       "2005       2\n",
       "2002       1\n",
       "2001       1\n",
       "2000       1\n",
       "Name: year, dtype: int64"
      ]
     },
     "execution_count": 27,
     "metadata": {},
     "output_type": "execute_result"
    }
   ],
   "source": [
    "# value conts of 'year' feature\n",
    "df_train['year'].value_counts()"
   ]
  },
  {
   "cell_type": "markdown",
   "id": "5a1c9148",
   "metadata": {},
   "source": [
    "- reviews from 2002 to 2014 are present in our dataset, when years are increasing text messages over phones are increasing"
   ]
  },
  {
   "cell_type": "markdown",
   "id": "96c78afe",
   "metadata": {},
   "source": [
    "- From the above we can conclude that nuber of usage of phones are increasing very rapidly which means that phone sales are increasing rapidly"
   ]
  },
  {
   "cell_type": "code",
   "execution_count": 28,
   "id": "e525816a",
   "metadata": {},
   "outputs": [
    {
     "data": {
      "text/plain": [
       "2013    0.347667\n",
       "2012    0.182167\n",
       "2014    0.164000\n",
       "2011    0.119167\n",
       "2010    0.098167\n",
       "2009    0.062500\n",
       "2008    0.022500\n",
       "2007    0.002500\n",
       "2006    0.000500\n",
       "2005    0.000333\n",
       "2002    0.000167\n",
       "2001    0.000167\n",
       "2000    0.000167\n",
       "Name: year, dtype: float64"
      ]
     },
     "execution_count": 28,
     "metadata": {},
     "output_type": "execute_result"
    }
   ],
   "source": [
    "# normalization value counts of 'year' feature\n",
    "df_train['year'].value_counts(normalize=True)"
   ]
  },
  {
   "cell_type": "code",
   "execution_count": 29,
   "id": "7f5de785",
   "metadata": {},
   "outputs": [
    {
     "data": {
      "text/plain": [
       "<AxesSubplot:>"
      ]
     },
     "execution_count": 29,
     "metadata": {},
     "output_type": "execute_result"
    },
    {
     "data": {
      "image/png": "[encoded data removed]",
      "text/plain": [
       "<Figure size 432x288 with 1 Axes>"
      ]
     },
     "metadata": {
      "needs_background": "light"
     },
     "output_type": "display_data"
    }
   ],
   "source": [
    "# bar plot of 'year' feature \n",
    "df_train['year'].value_counts(normalize=True).plot(kind='barh',color=['violet','indigo','blue','green','yellow','orange','red'])"
   ]
  },
  {
   "cell_type": "markdown",
   "id": "58faa112",
   "metadata": {},
   "source": [
    "- From the above plot we can say that smart phones usage since 2010 to 2014 are increased rapidly from this smart phone sales are incresed like wise"
   ]
  },
  {
   "cell_type": "code",
   "execution_count": 30,
   "id": "43f0f481",
   "metadata": {},
   "outputs": [
    {
     "data": {
      "text/plain": [
       "3     624\n",
       "1     623\n",
       "2     619\n",
       "5     605\n",
       "4     543\n",
       "6     532\n",
       "12    460\n",
       "7     447\n",
       "11    403\n",
       "9     395\n",
       "10    376\n",
       "8     373\n",
       "Name: month, dtype: int64"
      ]
     },
     "execution_count": 30,
     "metadata": {},
     "output_type": "execute_result"
    }
   ],
   "source": [
    "# value counts of 'month' feature\n",
    "df_train['month'].value_counts()"
   ]
  },
  {
   "cell_type": "code",
   "execution_count": 31,
   "id": "bc8a4c43",
   "metadata": {},
   "outputs": [
    {
     "data": {
      "text/plain": [
       "3     0.104000\n",
       "1     0.103833\n",
       "2     0.103167\n",
       "5     0.100833\n",
       "4     0.090500\n",
       "6     0.088667\n",
       "12    0.076667\n",
       "7     0.074500\n",
       "11    0.067167\n",
       "9     0.065833\n",
       "10    0.062667\n",
       "8     0.062167\n",
       "Name: month, dtype: float64"
      ]
     },
     "execution_count": 31,
     "metadata": {},
     "output_type": "execute_result"
    }
   ],
   "source": [
    "# narmalization of value counts of 'month' feature\n",
    "df_train['month'].value_counts(normalize=True)"
   ]
  },
  {
   "cell_type": "code",
   "execution_count": 32,
   "id": "3eef6af9",
   "metadata": {},
   "outputs": [
    {
     "data": {
      "text/plain": [
       "<AxesSubplot:>"
      ]
     },
     "execution_count": 32,
     "metadata": {},
     "output_type": "execute_result"
    },
    {
     "data": {
      "image/png": "[encoded data removed]",
      "text/plain": [
       "<Figure size 432x288 with 1 Axes>"
      ]
     },
     "metadata": {
      "needs_background": "light"
     },
     "output_type": "display_data"
    }
   ],
   "source": [
    "# bar plot of 'month' feature\n",
    "df_train['month'].value_counts(normalize=True).plot(kind='barh',color=['violet','indigo','blue','green','yellow','orange','red'])"
   ]
  },
  {
   "cell_type": "markdown",
   "id": "00dfe6e5",
   "metadata": {},
   "source": [
    "- From the above plot we can observed here is that most of the sales completely depends on crops which means that from 8th month onwards slitly formers income increases to 6th month so we can conclude that total sales are increasing like wise"
   ]
  },
  {
   "cell_type": "code",
   "execution_count": 33,
   "id": "43e5ab7f",
   "metadata": {},
   "outputs": [
    {
     "data": {
      "text/plain": [
       "26    229\n",
       "6     228\n",
       "19    220\n",
       "5     219\n",
       "4     216\n",
       "23    213\n",
       "21    212\n",
       "1     211\n",
       "11    209\n",
       "10    207\n",
       "7     207\n",
       "9     201\n",
       "13    201\n",
       "2     199\n",
       "18    198\n",
       "12    197\n",
       "22    196\n",
       "20    196\n",
       "16    191\n",
       "17    190\n",
       "27    189\n",
       "29    187\n",
       "15    184\n",
       "24    182\n",
       "28    180\n",
       "8     177\n",
       "14    176\n",
       "25    163\n",
       "30    161\n",
       "3     157\n",
       "31    104\n",
       "Name: day, dtype: int64"
      ]
     },
     "execution_count": 33,
     "metadata": {},
     "output_type": "execute_result"
    }
   ],
   "source": [
    "# value counts of 'day' feature\n",
    "df_train['day'].value_counts()"
   ]
  },
  {
   "cell_type": "code",
   "execution_count": 34,
   "id": "0f2bc037",
   "metadata": {},
   "outputs": [
    {
     "data": {
      "text/plain": [
       "26    0.038167\n",
       "6     0.038000\n",
       "19    0.036667\n",
       "5     0.036500\n",
       "4     0.036000\n",
       "23    0.035500\n",
       "21    0.035333\n",
       "1     0.035167\n",
       "11    0.034833\n",
       "10    0.034500\n",
       "7     0.034500\n",
       "9     0.033500\n",
       "13    0.033500\n",
       "2     0.033167\n",
       "18    0.033000\n",
       "12    0.032833\n",
       "22    0.032667\n",
       "20    0.032667\n",
       "16    0.031833\n",
       "17    0.031667\n",
       "27    0.031500\n",
       "29    0.031167\n",
       "15    0.030667\n",
       "24    0.030333\n",
       "28    0.030000\n",
       "8     0.029500\n",
       "14    0.029333\n",
       "25    0.027167\n",
       "30    0.026833\n",
       "3     0.026167\n",
       "31    0.017333\n",
       "Name: day, dtype: float64"
      ]
     },
     "execution_count": 34,
     "metadata": {},
     "output_type": "execute_result"
    }
   ],
   "source": [
    "# normalization value counts of 'day' feature\n",
    "df_train['day'].value_counts(normalize=True)"
   ]
  },
  {
   "cell_type": "code",
   "execution_count": 35,
   "id": "bd4c3a32",
   "metadata": {},
   "outputs": [
    {
     "data": {
      "text/plain": [
       "<AxesSubplot:>"
      ]
     },
     "execution_count": 35,
     "metadata": {},
     "output_type": "execute_result"
    },
    {
     "data": {
      "image/png": "[encoded data removed]",
      "text/plain": [
       "<Figure size 432x288 with 1 Axes>"
      ]
     },
     "metadata": {
      "needs_background": "light"
     },
     "output_type": "display_data"
    }
   ],
   "source": [
    "# bar plot of 'day' feature\n",
    "df_train['day'].value_counts(normalize=True).plot(kind='barh',color=['violet','indigo','blue','green','yellow','orange','red'])"
   ]
  },
  {
   "cell_type": "markdown",
   "id": "1185e186",
   "metadata": {},
   "source": [
    "- From 1st to 20th sales are increasing maximum is the 20th day of the month but from 20th to 31st sales are decreasing"
   ]
  },
  {
   "cell_type": "markdown",
   "id": "1cf8e649",
   "metadata": {},
   "source": [
    "- This is completly participation of employees was observed"
   ]
  },
  {
   "cell_type": "code",
   "execution_count": 36,
   "id": "d33b1b88",
   "metadata": {},
   "outputs": [],
   "source": [
    "# Adding 'reviewText' and 'summary'\n",
    "df_train[\"text\"] = df_train[\"reviewText\"] + df_train[\"summary\"]"
   ]
  },
  {
   "cell_type": "code",
   "execution_count": 37,
   "id": "07ad83b0",
   "metadata": {},
   "outputs": [
    {
     "data": {
      "text/plain": [
       "\"I enjoy vintage books and movies so I enjoyed reading this book.  The plot was unusual.  Don't think killing someone in self-defense but leaving the scene and the body without notifying the police or hitting someone in the jaw to knock them out would wash today.Still it was a good read for me.Nice vintage story\""
      ]
     },
     "execution_count": 37,
     "metadata": {},
     "output_type": "execute_result"
    }
   ],
   "source": [
    "# first record of 'text' feature\n",
    "df_train['text'][0]"
   ]
  },
  {
   "cell_type": "code",
   "execution_count": 38,
   "id": "6a4c6522",
   "metadata": {},
   "outputs": [
    {
     "data": {
      "text/plain": [
       "\"I enjoy vintage books and movies so I enjoyed reading this book.  The plot was unusual.  Don't think killing someone in self-defense but leaving the scene and the body without notifying the police or hitting someone in the jaw to knock them out would wash today.Still it was a good read for me.\""
      ]
     },
     "execution_count": 38,
     "metadata": {},
     "output_type": "execute_result"
    }
   ],
   "source": [
    "# first record of 'reviewText'\n",
    "df_train['reviewText'][0]"
   ]
  },
  {
   "cell_type": "code",
   "execution_count": 39,
   "id": "4f095864",
   "metadata": {},
   "outputs": [],
   "source": [
    "# For cleaning the data\n",
    "df_train['text'].replace(\"[^a-zA-Z]\",\" \",regex=True, inplace=True)"
   ]
  },
  {
   "cell_type": "code",
   "execution_count": 40,
   "id": "2408153e",
   "metadata": {},
   "outputs": [
    {
     "data": {
      "text/plain": [
       "0       I enjoy vintage books and movies so I enjoyed ...\n",
       "1       This book is a reissue of an old one  the auth...\n",
       "2       This was a fairly interesting read   It had ol...\n",
       "3       I d never read any of the Amy Brewster mysteri...\n",
       "4       If you like period pieces   clothing  lingo  y...\n",
       "                              ...                        \n",
       "5995    As I read this  I found myself trying to guess...\n",
       "5996    If you like a good action thriller  certainly ...\n",
       "5997    This was a different read for me   For the mos...\n",
       "5998    Argus Ward s struggle to separate reality from...\n",
       "5999    I saw a really enthusiastic review    stars  f...\n",
       "Name: text, Length: 6000, dtype: object"
      ]
     },
     "execution_count": 40,
     "metadata": {},
     "output_type": "execute_result"
    }
   ],
   "source": [
    "# all records of 'text' feature\n",
    "df_train['text']"
   ]
  },
  {
   "cell_type": "code",
   "execution_count": 41,
   "id": "68341067",
   "metadata": {},
   "outputs": [
    {
     "data": {
      "text/plain": [
       "0       i enjoy vintage books and movies so i enjoyed ...\n",
       "1       this book is a reissue of an old one  the auth...\n",
       "2       this was a fairly interesting read   it had ol...\n",
       "3       i d never read any of the amy brewster mysteri...\n",
       "4       if you like period pieces   clothing  lingo  y...\n",
       "                              ...                        \n",
       "5995    as i read this  i found myself trying to guess...\n",
       "5996    if you like a good action thriller  certainly ...\n",
       "5997    this was a different read for me   for the mos...\n",
       "5998    argus ward s struggle to separate reality from...\n",
       "5999    i saw a really enthusiastic review    stars  f...\n",
       "Name: text, Length: 6000, dtype: object"
      ]
     },
     "execution_count": 41,
     "metadata": {},
     "output_type": "execute_result"
    }
   ],
   "source": [
    "# all records string and lower\n",
    "df_train['text'].str.lower()"
   ]
  },
  {
   "cell_type": "code",
   "execution_count": 42,
   "id": "b7c6c8c7",
   "metadata": {},
   "outputs": [
    {
     "data": {
      "text/plain": [
       "'i enjoy vintage books and movies so i enjoyed reading this book   the plot was unusual   don t think killing someone in self defense but leaving the scene and the body without notifying the police or hitting someone in the jaw to knock them out would wash today still it was a good read for me nice vintage story'"
      ]
     },
     "execution_count": 42,
     "metadata": {},
     "output_type": "execute_result"
    }
   ],
   "source": [
    "# first record of 'text' feature\n",
    "df_train['text'].str.lower()[0]"
   ]
  },
  {
   "cell_type": "code",
   "execution_count": 43,
   "id": "e9c6f9c3",
   "metadata": {},
   "outputs": [],
   "source": [
    "# train_text dataframe\n",
    "train_text = df_train['text'].str.lower()"
   ]
  },
  {
   "cell_type": "code",
   "execution_count": 44,
   "id": "ba789253",
   "metadata": {},
   "outputs": [
    {
     "data": {
      "text/plain": [
       "0       i enjoy vintage books and movies so i enjoyed ...\n",
       "1       this book is a reissue of an old one  the auth...\n",
       "2       this was a fairly interesting read   it had ol...\n",
       "3       i d never read any of the amy brewster mysteri...\n",
       "4       if you like period pieces   clothing  lingo  y...\n",
       "                              ...                        \n",
       "5995    as i read this  i found myself trying to guess...\n",
       "5996    if you like a good action thriller  certainly ...\n",
       "5997    this was a different read for me   for the mos...\n",
       "5998    argus ward s struggle to separate reality from...\n",
       "5999    i saw a really enthusiastic review    stars  f...\n",
       "Name: text, Length: 6000, dtype: object"
      ]
     },
     "execution_count": 44,
     "metadata": {},
     "output_type": "execute_result"
    }
   ],
   "source": [
    "# all records of train_text dataframe\n",
    "train_text"
   ]
  },
  {
   "cell_type": "code",
   "execution_count": 45,
   "id": "995ff81d",
   "metadata": {},
   "outputs": [
    {
     "data": {
      "text/plain": [
       "'i enjoy vintage books and movies so i enjoyed reading this book   the plot was unusual   don t think killing someone in self defense but leaving the scene and the body without notifying the police or hitting someone in the jaw to knock them out would wash today still it was a good read for me nice vintage story'"
      ]
     },
     "execution_count": 45,
     "metadata": {},
     "output_type": "execute_result"
    }
   ],
   "source": [
    "# first record of train_text dataframe\n",
    "train_text[0]"
   ]
  },
  {
   "cell_type": "code",
   "execution_count": 46,
   "id": "13d2777a",
   "metadata": {},
   "outputs": [
    {
     "data": {
      "text/plain": [
       "array([5, 4, 3, 2, 1], dtype=int64)"
      ]
     },
     "execution_count": 46,
     "metadata": {},
     "output_type": "execute_result"
    }
   ],
   "source": [
    "# 'overall' feature unique values\n",
    "df_train['overall'].unique()"
   ]
  },
  {
   "cell_type": "code",
   "execution_count": 47,
   "id": "d446a144",
   "metadata": {},
   "outputs": [],
   "source": [
    "# replacing all values less than 4 with 0\n",
    "df_train['overall'] = np.where(df_train['overall'] <= 4 , 0, df_train['overall'])"
   ]
  },
  {
   "cell_type": "code",
   "execution_count": 48,
   "id": "faec04e5",
   "metadata": {},
   "outputs": [],
   "source": [
    "# replacing all values greater than 4 with 1\n",
    "df_train['overall'] = np.where(df_train['overall'] > 4 , 1, df_train['overall'])"
   ]
  },
  {
   "cell_type": "code",
   "execution_count": 49,
   "id": "39b9b203",
   "metadata": {},
   "outputs": [
    {
     "data": {
      "text/plain": [
       "0    3170\n",
       "1    2830\n",
       "Name: overall, dtype: int64"
      ]
     },
     "execution_count": 49,
     "metadata": {},
     "output_type": "execute_result"
    }
   ],
   "source": [
    "#value counts of 'overall' feature\n",
    "df_train['overall'].value_counts()"
   ]
  },
  {
   "cell_type": "code",
   "execution_count": 50,
   "id": "d8d61e2a",
   "metadata": {},
   "outputs": [
    {
     "data": {
      "text/plain": [
       "<AxesSubplot:>"
      ]
     },
     "execution_count": 50,
     "metadata": {},
     "output_type": "execute_result"
    },
    {
     "data": {
      "image/png": "[encoded data removed]",
      "text/plain": [
       "<Figure size 432x288 with 1 Axes>"
      ]
     },
     "metadata": {
      "needs_background": "light"
     },
     "output_type": "display_data"
    }
   ],
   "source": [
    "#Bar plot of 'overall' feature\n",
    "df_train['overall'].value_counts().plot(kind='barh',color=['blue','orange'])"
   ]
  },
  {
   "cell_type": "code",
   "execution_count": 51,
   "id": "ec4bbdbf",
   "metadata": {},
   "outputs": [
    {
     "data": {
      "text/plain": [
       "0    0.528333\n",
       "1    0.471667\n",
       "Name: overall, dtype: float64"
      ]
     },
     "execution_count": 51,
     "metadata": {},
     "output_type": "execute_result"
    }
   ],
   "source": [
    "# normalization overall count of 'overall' feature\n",
    "df_train['overall'].value_counts(normalize=True)"
   ]
  },
  {
   "cell_type": "markdown",
   "id": "2c759653",
   "metadata": {},
   "source": [
    "## We have to do similar operations with test dataset also"
   ]
  },
  {
   "cell_type": "code",
   "execution_count": 52,
   "id": "e5c8fa9b",
   "metadata": {},
   "outputs": [],
   "source": [
    "# load the test dataset\n",
    "df_test = pd.read_csv('df_test6.csv',index_col=0)"
   ]
  },
  {
   "cell_type": "code",
   "execution_count": 53,
   "id": "573a98bc",
   "metadata": {},
   "outputs": [],
   "source": [
    "# adding both 'reviewText' and 'summary'\n",
    "df_test[\"text\"] = df_train[\"reviewText\"] + df_test[\"summary\"]"
   ]
  },
  {
   "cell_type": "code",
   "execution_count": 54,
   "id": "4b4624bf",
   "metadata": {},
   "outputs": [],
   "source": [
    "#ignore the warnings\n",
    "import warnings\n",
    "warnings.filterwarnings('ignore')"
   ]
  },
  {
   "cell_type": "code",
   "execution_count": 55,
   "id": "5cd9b90a",
   "metadata": {},
   "outputs": [],
   "source": [
    "# For cleaning the data\n",
    "df_test['text'].replace(\"[^a-zA-Z]\",\" \",regex=True, inplace=True)"
   ]
  },
  {
   "cell_type": "code",
   "execution_count": 56,
   "id": "1af28a3f",
   "metadata": {},
   "outputs": [
    {
     "data": {
      "text/plain": [
       "0       I enjoy vintage books and movies so I enjoyed ...\n",
       "1       This book is a reissue of an old one  the auth...\n",
       "2       This was a fairly interesting read   It had ol...\n",
       "3       I d never read any of the Amy Brewster mysteri...\n",
       "4       If you like period pieces   clothing  lingo  y...\n",
       "                              ...                        \n",
       "5995    As I read this  I found myself trying to guess...\n",
       "5996    If you like a good action thriller  certainly ...\n",
       "5997    This was a different read for me   For the mos...\n",
       "5998    Argus Ward s struggle to separate reality from...\n",
       "5999    I saw a really enthusiastic review    stars  f...\n",
       "Name: text, Length: 6000, dtype: object"
      ]
     },
     "execution_count": 56,
     "metadata": {},
     "output_type": "execute_result"
    }
   ],
   "source": [
    "# all records of test data\n",
    "df_test['text']"
   ]
  },
  {
   "cell_type": "code",
   "execution_count": 57,
   "id": "559a59ef",
   "metadata": {},
   "outputs": [],
   "source": [
    "# sting and lowering the test dataset\n",
    "test_text = df_test['text'].str.lower()"
   ]
  },
  {
   "cell_type": "code",
   "execution_count": 58,
   "id": "a1a521ee",
   "metadata": {},
   "outputs": [
    {
     "data": {
      "text/plain": [
       "0       i enjoy vintage books and movies so i enjoyed ...\n",
       "1       this book is a reissue of an old one  the auth...\n",
       "2       this was a fairly interesting read   it had ol...\n",
       "3       i d never read any of the amy brewster mysteri...\n",
       "4       if you like period pieces   clothing  lingo  y...\n",
       "                              ...                        \n",
       "5995    as i read this  i found myself trying to guess...\n",
       "5996    if you like a good action thriller  certainly ...\n",
       "5997    this was a different read for me   for the mos...\n",
       "5998    argus ward s struggle to separate reality from...\n",
       "5999    i saw a really enthusiastic review    stars  f...\n",
       "Name: text, Length: 6000, dtype: object"
      ]
     },
     "execution_count": 58,
     "metadata": {},
     "output_type": "execute_result"
    }
   ],
   "source": [
    "# all the records of test dataset\n",
    "test_text"
   ]
  },
  {
   "cell_type": "code",
   "execution_count": 59,
   "id": "1fc32373",
   "metadata": {},
   "outputs": [
    {
     "data": {
      "text/plain": [
       "'i enjoy vintage books and movies so i enjoyed reading this book   the plot was unusual   don t think killing someone in self defense but leaving the scene and the body without notifying the police or hitting someone in the jaw to knock them out would wash today still it was a good read for me nine ten'"
      ]
     },
     "execution_count": 59,
     "metadata": {},
     "output_type": "execute_result"
    }
   ],
   "source": [
    "# first record of test dataset\n",
    "test_text[0]"
   ]
  },
  {
   "cell_type": "code",
   "execution_count": 60,
   "id": "6e49e518",
   "metadata": {},
   "outputs": [
    {
     "data": {
      "text/plain": [
       "5    3711\n",
       "4    1506\n",
       "3     518\n",
       "2     162\n",
       "1     103\n",
       "Name: overall, dtype: int64"
      ]
     },
     "execution_count": 60,
     "metadata": {},
     "output_type": "execute_result"
    }
   ],
   "source": [
    "# value counts of 'overall' feature\n",
    "df_test['overall'].value_counts()"
   ]
  },
  {
   "cell_type": "code",
   "execution_count": 61,
   "id": "8294ffac",
   "metadata": {},
   "outputs": [
    {
     "data": {
      "text/plain": [
       "<AxesSubplot:>"
      ]
     },
     "execution_count": 61,
     "metadata": {},
     "output_type": "execute_result"
    },
    {
     "data": {
      "image/png": "[encoded data removed]",
      "text/plain": [
       "<Figure size 432x288 with 1 Axes>"
      ]
     },
     "metadata": {
      "needs_background": "light"
     },
     "output_type": "display_data"
    }
   ],
   "source": [
    "# barplot of 'overall' feature\n",
    "df_test['overall'].value_counts().plot(kind='barh',color=['indigo','blue','green','yellow','orange','red'])"
   ]
  },
  {
   "cell_type": "code",
   "execution_count": 62,
   "id": "16a50ad3",
   "metadata": {},
   "outputs": [],
   "source": [
    "# replacing the values less than 4 with 0\n",
    "df_test['overall'] = np.where(df_test['overall'] <= 4 , 0, df_test['overall'])"
   ]
  },
  {
   "cell_type": "code",
   "execution_count": 63,
   "id": "f7b8ec57",
   "metadata": {},
   "outputs": [],
   "source": [
    "# replacing the values greater than 4 with 1\n",
    "df_test['overall'] = np.where(df_test['overall'] > 4 , 1, df_test['overall'])"
   ]
  },
  {
   "cell_type": "code",
   "execution_count": 64,
   "id": "ab79fd84",
   "metadata": {},
   "outputs": [
    {
     "data": {
      "text/plain": [
       "1    3711\n",
       "0    2289\n",
       "Name: overall, dtype: int64"
      ]
     },
     "execution_count": 64,
     "metadata": {},
     "output_type": "execute_result"
    }
   ],
   "source": [
    "# value counts of 'overall' feature\n",
    "df_test['overall'].value_counts()"
   ]
  },
  {
   "cell_type": "code",
   "execution_count": 65,
   "id": "9727906f",
   "metadata": {},
   "outputs": [
    {
     "data": {
      "text/plain": [
       "1    0.6185\n",
       "0    0.3815\n",
       "Name: overall, dtype: float64"
      ]
     },
     "execution_count": 65,
     "metadata": {},
     "output_type": "execute_result"
    }
   ],
   "source": [
    "# normalize value counts of 'overall' feature\n",
    "df_test['overall'].value_counts(normalize=True)"
   ]
  },
  {
   "cell_type": "code",
   "execution_count": 66,
   "id": "200bb1e0",
   "metadata": {
    "scrolled": true
   },
   "outputs": [
    {
     "data": {
      "text/plain": [
       "<AxesSubplot:>"
      ]
     },
     "execution_count": 66,
     "metadata": {},
     "output_type": "execute_result"
    },
    {
     "data": {
      "image/png": "[encoded data removed]",
      "text/plain": [
       "<Figure size 432x288 with 1 Axes>"
      ]
     },
     "metadata": {
      "needs_background": "light"
     },
     "output_type": "display_data"
    }
   ],
   "source": [
    "# bar plot of 'overall' feature\n",
    "df_test['overall'].value_counts(normalize=True).plot(kind='bar',color=['blue','orange'])"
   ]
  },
  {
   "cell_type": "markdown",
   "id": "60da0d4e",
   "metadata": {},
   "source": [
    "## Converting the Text data into vetorization format"
   ]
  },
  {
   "cell_type": "code",
   "execution_count": 67,
   "id": "83cc0171",
   "metadata": {},
   "outputs": [],
   "source": [
    "from sklearn.feature_extraction.text import CountVectorizer\n",
    "cv = CountVectorizer(binary=True)\n",
    "cv.fit(train_text)\n",
    "train_numb = cv.transform(train_text)\n",
    "test_numb = cv.transform(test_text)"
   ]
  },
  {
   "cell_type": "code",
   "execution_count": 68,
   "id": "ea3afdaf",
   "metadata": {},
   "outputs": [
    {
     "data": {
      "text/plain": [
       "<6000x21854 sparse matrix of type '<class 'numpy.int64'>'\n",
       "\twith 410829 stored elements in Compressed Sparse Row format>"
      ]
     },
     "execution_count": 68,
     "metadata": {},
     "output_type": "execute_result"
    }
   ],
   "source": [
    "train_numb"
   ]
  },
  {
   "cell_type": "code",
   "execution_count": 69,
   "id": "75798077",
   "metadata": {},
   "outputs": [
    {
     "data": {
      "text/plain": [
       "0    3170\n",
       "1    2830\n",
       "Name: overall, dtype: int64"
      ]
     },
     "execution_count": 69,
     "metadata": {},
     "output_type": "execute_result"
    }
   ],
   "source": [
    "# value counts of 'overall' feature\n",
    "df_train['overall'].value_counts()"
   ]
  },
  {
   "cell_type": "code",
   "execution_count": 70,
   "id": "031d697c",
   "metadata": {},
   "outputs": [
    {
     "data": {
      "text/plain": [
       "<6000x21854 sparse matrix of type '<class 'numpy.int64'>'\n",
       "\twith 415695 stored elements in Compressed Sparse Row format>"
      ]
     },
     "execution_count": 70,
     "metadata": {},
     "output_type": "execute_result"
    }
   ],
   "source": [
    "test_numb"
   ]
  },
  {
   "cell_type": "code",
   "execution_count": 71,
   "id": "03b7656b",
   "metadata": {},
   "outputs": [],
   "source": [
    "# divide the dataset into training and validation \n",
    "from sklearn.model_selection import train_test_split\n",
    "X_train,X_val,y_train,y_val = train_test_split(train_numb,df_train['overall'],test_size=0.30)"
   ]
  },
  {
   "cell_type": "code",
   "execution_count": 72,
   "id": "b70a8952",
   "metadata": {},
   "outputs": [
    {
     "data": {
      "text/plain": [
       "<4200x21854 sparse matrix of type '<class 'numpy.int64'>'\n",
       "\twith 289453 stored elements in Compressed Sparse Row format>"
      ]
     },
     "execution_count": 72,
     "metadata": {},
     "output_type": "execute_result"
    }
   ],
   "source": [
    "X_train"
   ]
  },
  {
   "cell_type": "code",
   "execution_count": 73,
   "id": "173fb19a",
   "metadata": {},
   "outputs": [
    {
     "name": "stdout",
     "output_type": "stream",
     "text": [
      "Accuracy for C=0.01:0.7472222222222222\n",
      "Accuracy for C=0.05:0.7461111111111111\n",
      "Accuracy for C=0.25:0.7333333333333333\n",
      "Accuracy for C=0.5:0.7277777777777777\n",
      "Accuracy for C=1:0.7222222222222222\n"
     ]
    }
   ],
   "source": [
    "# Building a Logistic model\n",
    "from sklearn.metrics import accuracy_score,confusion_matrix,classification_report\n",
    "from sklearn.linear_model import LogisticRegression\n",
    "for c in [0.01,0.05,0.25,0.5,1]:\n",
    "    lr = LogisticRegression(C=c,solver='liblinear')\n",
    "    lr.fit(X_train,y_train)\n",
    "    print('Accuracy for C=%s:%s'%(c,accuracy_score(y_val,lr.predict(X_val))))"
   ]
  },
  {
   "cell_type": "code",
   "execution_count": 74,
   "id": "2f38f265",
   "metadata": {},
   "outputs": [
    {
     "data": {
      "text/plain": [
       "'this book is a reissue of an old one  the author was born in       it s of the era of  say  nero wolfe  the introduction was quite interesting  explaining who the author was and why he s been forgotten  i d never heard of him the language is a little dated at times  like calling a gun a      heater        i also made good use of my fire s dictionary to look up words like      deshabille      and      canarsie       still  it was well worth a look see can t beat a willow rose book   '"
      ]
     },
     "execution_count": 74,
     "metadata": {},
     "output_type": "execute_result"
    }
   ],
   "source": [
    "# second record of test_text\n",
    "test_text[1]"
   ]
  },
  {
   "cell_type": "code",
   "execution_count": 75,
   "id": "d4d21367",
   "metadata": {},
   "outputs": [
    {
     "name": "stdout",
     "output_type": "stream",
     "text": [
      "[[727 251]\n",
      " [249 573]]\n",
      "              precision    recall  f1-score   support\n",
      "\n",
      "           0       0.74      0.74      0.74       978\n",
      "           1       0.70      0.70      0.70       822\n",
      "\n",
      "    accuracy                           0.72      1800\n",
      "   macro avg       0.72      0.72      0.72      1800\n",
      "weighted avg       0.72      0.72      0.72      1800\n",
      "\n"
     ]
    }
   ],
   "source": [
    "# Confusion matrix\n",
    "cm = confusion_matrix(y_val,lr.predict(X_val))\n",
    "cl = classification_report(y_val,lr.predict(X_val))\n",
    "print(cm)\n",
    "print(cl)"
   ]
  },
  {
   "cell_type": "code",
   "execution_count": 76,
   "id": "1e939103",
   "metadata": {},
   "outputs": [
    {
     "name": "stdout",
     "output_type": "stream",
     "text": [
      "0.745\n",
      "[[756 237]\n",
      " [222 585]]\n",
      "              precision    recall  f1-score   support\n",
      "\n",
      "           0       0.77      0.76      0.77       993\n",
      "           1       0.71      0.72      0.72       807\n",
      "\n",
      "    accuracy                           0.74      1800\n",
      "   macro avg       0.74      0.74      0.74      1800\n",
      "weighted avg       0.75      0.74      0.75      1800\n",
      "\n"
     ]
    }
   ],
   "source": [
    "# building multinomial Naivie bayes\n",
    "from sklearn.naive_bayes import MultinomialNB\n",
    "mn = MultinomialNB()\n",
    "mn.fit(X_train,y_train)\n",
    "y_pred = mn.predict(X_val)\n",
    "acc = accuracy_score(y_pred,y_val)\n",
    "cm = confusion_matrix(y_pred,y_val)\n",
    "clr = classification_report(y_pred,y_val)\n",
    "print(acc)\n",
    "print(cm)\n",
    "print(clr)"
   ]
  },
  {
   "cell_type": "code",
   "execution_count": 77,
   "id": "5cf28cdf",
   "metadata": {},
   "outputs": [
    {
     "name": "stdout",
     "output_type": "stream",
     "text": [
      "[16:07:15] WARNING: ..\\src\\learner.cc:1061: Starting in XGBoost 1.3.0, the default evaluation metric used with the objective 'binary:logistic' was changed from 'error' to 'logloss'. Explicitly set eval_metric if you'd like to restore the old behavior.\n",
      "0.7305555555555555\n",
      "[[727 234]\n",
      " [251 588]]\n",
      "              precision    recall  f1-score   support\n",
      "\n",
      "           0       0.74      0.76      0.75       961\n",
      "           1       0.72      0.70      0.71       839\n",
      "\n",
      "    accuracy                           0.73      1800\n",
      "   macro avg       0.73      0.73      0.73      1800\n",
      "weighted avg       0.73      0.73      0.73      1800\n",
      "\n"
     ]
    }
   ],
   "source": [
    "# build xgboost classifier\n",
    "import xgboost as xgb\n",
    "from xgboost.sklearn import XGBClassifier\n",
    "xgb = XGBClassifier()\n",
    "xgb.fit(X_train,y_train)\n",
    "y_pred = xgb.predict(X_val)\n",
    "acc = accuracy_score(y_pred,y_val)\n",
    "cm = confusion_matrix(y_pred,y_val)\n",
    "clr = classification_report(y_pred,y_val)\n",
    "print(acc)\n",
    "print(cm)\n",
    "print(clr)"
   ]
  },
  {
   "cell_type": "code",
   "execution_count": null,
   "id": "361a86c3",
   "metadata": {},
   "outputs": [],
   "source": []
  }
 ],
 "metadata": {
  "kernelspec": {
   "display_name": "Python 3 (ipykernel)",
   "language": "python",
   "name": "python3"
  },
  "language_info": {
   "codemirror_mode": {
    "name": "ipython",
    "version": 3
   },
   "file_extension": ".py",
   "mimetype": "text/x-python",
   "name": "python",
   "nbconvert_exporter": "python",
   "pygments_lexer": "ipython3",
   "version": "3.10.9"
  }
 },
 "nbformat": 4,
 "nbformat_minor": 5
}
